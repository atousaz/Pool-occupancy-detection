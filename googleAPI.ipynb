{
  "nbformat": 4,
  "nbformat_minor": 0,
  "metadata": {
    "colab": {
      "provenance": []
    },
    "kernelspec": {
      "name": "python3",
      "display_name": "Python 3"
    },
    "language_info": {
      "name": "python"
    }
  },
  "cells": [
    {
      "cell_type": "code",
      "execution_count": null,
      "metadata": {
        "id": "O9i_U-xVvujc"
      },
      "outputs": [],
      "source": [
        "from google_images_search import GoogleImagesSearch\n",
        "import random\n",
        "\n",
        "# Function to search for images with random queries\n",
        "def search_random_images(queries, limit_per_query=10, save_dir=None):\n",
        "    # Initialize GoogleImagesSearch object\n",
        "    gis = GoogleImagesSearch('AIz--', '--')\n",
        "\n",
        "    # Shuffle the list of queries to introduce randomness\n",
        "    random.shuffle(queries)\n",
        "\n",
        "    # Set common search parameters\n",
        "    common_search_params = {\n",
        "        'num': limit_per_query,\n",
        "        'fileType': 'jpg'\n",
        "    }\n",
        "\n",
        "    # Search for images with each query\n",
        "    for query in queries:\n",
        "        # Set search parameters for the current query\n",
        "        search_params = {'q': query}\n",
        "        search_params.update(common_search_params)\n",
        "\n",
        "        # Perform search for images and specify saving directory\n",
        "        gis.search(search_params=search_params, path_to_dir=save_dir)\n",
        "\n",
        "        # Get search results\n",
        "        search_results = gis.results()\n",
        "\n",
        "        # Print image URLs\n",
        "        for image in search_results:\n",
        "            print(image.url)\n",
        "\n",
        "# Example usage:\n",
        "query =[\"people in hotel pool area\",\"hotel pool area with chairs and humans\",\"man sitting in chair in hotel pool area\",\"woman sitting in chair in hotel pool area\"]\n",
        "save_directory = \"./scraped_images/\"\n",
        "search_random_images(query, limit_per_query=10, save_dir=save_directory)\n"
      ]
    }
  ]
}
