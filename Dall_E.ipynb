{
  "nbformat": 4,
  "nbformat_minor": 0,
  "metadata": {
    "colab": {
      "provenance": []
    },
    "kernelspec": {
      "name": "python3",
      "display_name": "Python 3"
    },
    "language_info": {
      "name": "python"
    }
  },
  "cells": [
    {
      "cell_type": "code",
      "execution_count": null,
      "metadata": {
        "id": "QXDQwYMI02qD"
      },
      "outputs": [],
      "source": [
        "pip install openai==0.28\n"
      ]
    },
    {
      "cell_type": "code",
      "source": [
        "\n",
        "import openai\n",
        "import requests\n",
        "import os\n",
        "import time\n",
        "openai.api_key = 'sk-proj---'\n",
        "def generate_images(prompts, n_images_per_prompt, output_dir):\n",
        "    if not os.path.exists(output_dir):\n",
        "        os.makedirs(output_dir)\n",
        "\n",
        "    image_count = 140\n",
        "\n",
        "    for prompt in prompts:\n",
        "        for _ in range(n_images_per_prompt):\n",
        "            success = False\n",
        "            while not success:\n",
        "                try:\n",
        "                    response = openai.Image.create(\n",
        "                        prompt=prompt,\n",
        "                        n=1,\n",
        "                        size=\"1024x1024\"\n",
        "                    )\n",
        "                    image_url = response['data'][0]['url']\n",
        "                    image_data = requests.get(image_url).content\n",
        "                    with open(f\"{output_dir}/image_{image_count}.png\", 'wb') as handler:\n",
        "                        handler.write(image_data)\n",
        "                    image_count += 1\n",
        "                    success = True\n",
        "                except openai.error.APIError as e:\n",
        "                    print(f\"APIError: {e}. Retrying...\")\n",
        "                    time.sleep(5)  # Wait for 5 seconds before retrying\n",
        "                except Exception as e:\n",
        "                    print(f\"An error occurred: {e}\")\n",
        "                    break\n",
        "\n",
        "prompts = [\n",
        "    \"A person sitting on a chair next to a luxurious hotel pool looing at camera\",\n",
        "    \"A chair next to a luxurious hotel pool with no one sitting\",\n",
        "    \"A person lounging on a chair by a hotel pool looking at camera\",\n",
        "    \"An empty chair by a hotel poolside\",\n",
        "    \"A couple of people sitting on chairs near a hotel pool looking at camera\",\n",
        "    \"Several empty chairs arranged near a hotel pool\",\n",
        "    \"A child sitting on a chair next to a hotel pool looking at camera\",\n",
        "    \"A chair with a towel draped over it by the pool\",\n",
        "    \"A person reading a book on a chair by the pool facing camera\",\n",
        "    \"An empty lounge chair next to a swimming pool in a hotel\",\n",
        "    \"A family sitting on chairs near a hotel pool facing camera\",\n",
        "    \"A chair with a beach bag on it next to a hotel pool\"\n",
        "]\n",
        "\n",
        "generate_images(prompts, 1000, '/content/drive/MyDrive/Dall_E')"
      ],
      "metadata": {
        "id": "R56FoLgZ06qB"
      },
      "execution_count": null,
      "outputs": []
    }
  ]
}