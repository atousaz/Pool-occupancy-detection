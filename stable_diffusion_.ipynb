{
  "nbformat": 4,
  "nbformat_minor": 0,
  "metadata": {
    "colab": {
      "provenance": []
    },
    "kernelspec": {
      "name": "python3",
      "display_name": "Python 3"
    },
    "language_info": {
      "name": "python"
    }
  },
  "cells": [
    {
      "cell_type": "markdown",
      "source": [
        "stable diffusion"
      ],
      "metadata": {
        "id": "h6dkGopsuDYQ"
      }
    },
    {
      "cell_type": "code",
      "source": [
        "import os\n",
        "import itertools\n",
        "from IPython.display import Image, display\n",
        "from diffusers import StableDiffusionPipeline  # Ensure you have the correct import for your pipeline\n",
        "import torch\n",
        "\n",
        "pool_keywords = [\n",
        "    \"hotel pool area with chairs\", \"hotel pool area with people\",\n",
        "    \"hotel pool area with lights direction from north\", \" man sitting on hotel pool lounge\",\" man sitting on hotel pool chair\"\n",
        "]\n",
        "\n",
        "# Define a function to generate prompts using combinations of keywords\n",
        "def generate_prompts(keywords, num_words=3):\n",
        "    prompts = []\n",
        "    for i in range(1, num_words + 1):\n",
        "        keyword_combinations = itertools.combinations(keywords, i)\n",
        "        for combination in keyword_combinations:\n",
        "            prompt = \"Generate an image of a \" + \", \".join(combination) + \".\"\n",
        "            prompts.append(prompt)\n",
        "    return prompts\n",
        "\n",
        "# Function to generate annotations for a given image and prompt\n",
        "def generate_annotations(image_path, chairs_info, light_direction, prompt):\n",
        "    annotations = {\n",
        "        \"image_path\": image_path,\n",
        "        \"chairs\": chairs_info,\n",
        "        \"light_direction\": light_direction,\n",
        "        \"prompt\": prompt  # Include the prompt in the annotations\n",
        "    }\n",
        "    return annotations\n",
        "\n",
        "def generate_images(\n",
        "    prompts,\n",
        "    num_images_to_generate,\n",
        "    num_images_per_prompt=4,\n",
        "    guidance_scale=8,\n",
        "    output_dir=\"/content/drive/My Drive/stable_difuser_images\",\n",
        "    display_images=False,\n",
        "):\n",
        "\n",
        "    num_iterations = num_images_to_generate // num_images_per_prompt\n",
        "    os.makedirs(output_dir, exist_ok=True)\n",
        "\n",
        "    # Initialize pipeline\n",
        "    device = \"cuda\" if torch.cuda.is_available() else \"cpu\"\n",
        "    pipeline = StableDiffusionPipeline.from_pretrained(\"CompVis/stable-diffusion-v1-4\").to(device)\n",
        "\n",
        "    count = 0\n",
        "    for prompt in prompts:\n",
        "        for _ in range(num_iterations):\n",
        "            images = pipeline(prompt, num_images_per_prompt=num_images_per_prompt, guidance_scale=guidance_scale)\n",
        "            for idx, image in enumerate(images.images):\n",
        "                count += 1\n",
        "                image_name = f\"{output_dir}/image_{count}.png\"\n",
        "                image.save(image_name)\n",
        "                if display_images:\n",
        "                    display(Image(filename=image_name, width=1000, height=1000))\n",
        "\n",
        "# Generate prompts\n",
        "prompts = generate_prompts(pool_keywords)\n",
        "\n",
        "# Generate images using the prompts\n",
        "generate_images(\n",
        "    prompts=prompts,\n",
        "    num_images_to_generate=30,  # Change this to the desired number of images\n",
        "    num_images_per_prompt=4,\n",
        "    guidance_scale=8,\n",
        "    output_dir=\"/content/drive/My Drive/stable_difuser_images\",\n",
        "    display_images=False\n",
        ")\n"
      ],
      "metadata": {
        "id": "e4U7RIHku-Zh"
      },
      "execution_count": null,
      "outputs": []
    }
  ]
}